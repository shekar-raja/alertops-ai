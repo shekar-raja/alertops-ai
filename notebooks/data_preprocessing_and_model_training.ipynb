{
 "cells": [
  {
   "cell_type": "code",
   "execution_count": 1,
   "metadata": {},
   "outputs": [],
   "source": [
    "import pandas as pd\n",
    "import matplotlib.pyplot as plt\n",
    "import seaborn as sns"
   ]
  },
  {
   "cell_type": "markdown",
   "metadata": {},
   "source": [
    "Loading the datasets in chunks"
   ]
  },
  {
   "cell_type": "code",
   "execution_count": 10,
   "metadata": {},
   "outputs": [],
   "source": [
    "file_path = \"../datasets/processed_logs.csv\"\n",
    "chunk_size = 500000"
   ]
  },
  {
   "cell_type": "code",
   "execution_count": 13,
   "metadata": {},
   "outputs": [
    {
     "name": "stderr",
     "output_type": "stream",
     "text": [
      "/var/folders/hw/2qqt9k2547j0gf2k4f_hq0lc0000gn/T/ipykernel_29072/492501328.py:2: DtypeWarning: Columns (0) have mixed types. Specify dtype option on import or set low_memory=False.\n",
      "  logs_df = pd.concat(chunks)\n"
     ]
    }
   ],
   "source": [
    "chunks = pd.read_csv(file_path, chunksize=chunk_size)\n",
    "logs_df = pd.concat(chunks)"
   ]
  },
  {
   "cell_type": "code",
   "execution_count": 7,
   "metadata": {},
   "outputs": [
    {
     "data": {
      "text/html": [
       "<div>\n",
       "<style scoped>\n",
       "    .dataframe tbody tr th:only-of-type {\n",
       "        vertical-align: middle;\n",
       "    }\n",
       "\n",
       "    .dataframe tbody tr th {\n",
       "        vertical-align: top;\n",
       "    }\n",
       "\n",
       "    .dataframe thead th {\n",
       "        text-align: right;\n",
       "    }\n",
       "</style>\n",
       "<table border=\"1\" class=\"dataframe\">\n",
       "  <thead>\n",
       "    <tr style=\"text-align: right;\">\n",
       "      <th></th>\n",
       "      <th>timestamp</th>\n",
       "      <th>level</th>\n",
       "      <th>message</th>\n",
       "      <th>source</th>\n",
       "    </tr>\n",
       "  </thead>\n",
       "  <tbody>\n",
       "    <tr>\n",
       "      <th>499995</th>\n",
       "      <td>2005-06-14 10:57:15.124924</td>\n",
       "      <td>FATAL</td>\n",
       "      <td>guaranteed instruction cache block touch.0</td>\n",
       "      <td>BGL</td>\n",
       "    </tr>\n",
       "    <tr>\n",
       "      <th>499996</th>\n",
       "      <td>2005-06-14 10:57:15.152929</td>\n",
       "      <td>FATAL</td>\n",
       "      <td>guaranteed instruction cache block touch.0</td>\n",
       "      <td>BGL</td>\n",
       "    </tr>\n",
       "    <tr>\n",
       "      <th>499997</th>\n",
       "      <td>2005-06-14 10:57:15.162961</td>\n",
       "      <td>FATAL</td>\n",
       "      <td>program interrupt: fp compare...............0</td>\n",
       "      <td>BGL</td>\n",
       "    </tr>\n",
       "    <tr>\n",
       "      <th>499998</th>\n",
       "      <td>2005-06-14 10:57:15.174778</td>\n",
       "      <td>FATAL</td>\n",
       "      <td>guaranteed instruction cache block touch.0</td>\n",
       "      <td>BGL</td>\n",
       "    </tr>\n",
       "    <tr>\n",
       "      <th>499999</th>\n",
       "      <td>2005-06-14 10:57:15.184791</td>\n",
       "      <td>FATAL</td>\n",
       "      <td>program interrupt: fp compare...............0</td>\n",
       "      <td>BGL</td>\n",
       "    </tr>\n",
       "  </tbody>\n",
       "</table>\n",
       "</div>"
      ],
      "text/plain": [
       "                         timestamp  level  \\\n",
       "499995  2005-06-14 10:57:15.124924  FATAL   \n",
       "499996  2005-06-14 10:57:15.152929  FATAL   \n",
       "499997  2005-06-14 10:57:15.162961  FATAL   \n",
       "499998  2005-06-14 10:57:15.174778  FATAL   \n",
       "499999  2005-06-14 10:57:15.184791  FATAL   \n",
       "\n",
       "                                              message source  \n",
       "499995     guaranteed instruction cache block touch.0    BGL  \n",
       "499996     guaranteed instruction cache block touch.0    BGL  \n",
       "499997  program interrupt: fp compare...............0    BGL  \n",
       "499998     guaranteed instruction cache block touch.0    BGL  \n",
       "499999  program interrupt: fp compare...............0    BGL  "
      ]
     },
     "execution_count": 7,
     "metadata": {},
     "output_type": "execute_result"
    }
   ],
   "source": [
    "logs_df.tail()"
   ]
  },
  {
   "cell_type": "markdown",
   "metadata": {},
   "source": [
    "Exploratory Data Analysis"
   ]
  },
  {
   "cell_type": "code",
   "execution_count": 16,
   "metadata": {},
   "outputs": [
    {
     "name": "stdout",
     "output_type": "stream",
     "text": [
      "level\n",
      "INFO                                5954567\n",
      "WARN                                 833297\n",
      "ERROR                                625355\n",
      "CRITICAL                             624647\n",
      "FATAL                                321471\n",
      "                                     ...   \n",
      "GoogleSoftwareUpdateAgent[35089]          1\n",
      "netbiosd[35901]                           1\n",
      "netbiosd[31279]                           1\n",
      "helpd[36107]                              1\n",
      "GoogleSoftwareUpdateAgent[33940]          1\n",
      "Name: count, Length: 1040, dtype: int64\n"
     ]
    }
   ],
   "source": [
    "# print(logs_df.info())\n",
    "print(logs_df['level'].value_counts())"
   ]
  },
  {
   "cell_type": "code",
   "execution_count": null,
   "metadata": {},
   "outputs": [],
   "source": []
  }
 ],
 "metadata": {
  "kernelspec": {
   "display_name": "alertops-ai",
   "language": "python",
   "name": "python3"
  },
  "language_info": {
   "codemirror_mode": {
    "name": "ipython",
    "version": 3
   },
   "file_extension": ".py",
   "mimetype": "text/x-python",
   "name": "python",
   "nbconvert_exporter": "python",
   "pygments_lexer": "ipython3",
   "version": "3.9.21"
  }
 },
 "nbformat": 4,
 "nbformat_minor": 2
}
