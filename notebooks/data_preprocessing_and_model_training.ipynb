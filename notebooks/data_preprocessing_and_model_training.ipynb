{
 "cells": [
  {
   "cell_type": "markdown",
   "metadata": {},
   "source": [
    "Building AI model to classify logs into P1, P2, P3 and P4."
   ]
  },
  {
   "cell_type": "markdown",
   "metadata": {},
   "source": [
    "### Data Loading and Exploration "
   ]
  },
  {
   "cell_type": "markdown",
   "metadata": {},
   "source": [
    "#### Efficient Data Loading\n",
    "- ***Chunk Loading:*** Due to dataset size, data is loaded in chunks to prevent memory overflow.\n",
    "- ***PySpark Integration:*** For scalability, Pyspark is utilized for parallel data processing."
   ]
  },
  {
   "cell_type": "markdown",
   "metadata": {},
   "source": [
    "Library imports"
   ]
  },
  {
   "cell_type": "code",
   "execution_count": 1,
   "metadata": {},
   "outputs": [],
   "source": [
    "import pandas as pd\n",
    "import matplotlib.pyplot as plt\n",
    "import seaborn as sns\n",
    "import re\n",
    "import nltk\n",
    "from nltk.corpus import stopwords\n",
    "from nltk.stem import WordNetLemmatizer\n",
    "from sklearn.feature_extraction.text import TfidfVectorizer\n",
    "from sklearn.preprocessing import LabelEncoder"
   ]
  },
  {
   "cell_type": "markdown",
   "metadata": {},
   "source": [
    "Configurations"
   ]
  },
  {
   "cell_type": "code",
   "execution_count": 2,
   "metadata": {},
   "outputs": [
    {
     "name": "stderr",
     "output_type": "stream",
     "text": [
      "[nltk_data] Downloading package stopwords to\n",
      "[nltk_data]     /Users/rshekar/nltk_data...\n",
      "[nltk_data]   Package stopwords is already up-to-date!\n",
      "[nltk_data] Downloading package wordnet to /Users/rshekar/nltk_data...\n",
      "[nltk_data]   Package wordnet is already up-to-date!\n"
     ]
    },
    {
     "data": {
      "text/plain": [
       "True"
      ]
     },
     "execution_count": 2,
     "metadata": {},
     "output_type": "execute_result"
    }
   ],
   "source": [
    "%matplotlib inline\n",
    "nltk.download('stopwords')\n",
    "nltk.download('wordnet')"
   ]
  },
  {
   "cell_type": "markdown",
   "metadata": {},
   "source": [
    "Loading dataset in chunks"
   ]
  },
  {
   "cell_type": "code",
   "execution_count": 3,
   "metadata": {},
   "outputs": [
    {
     "name": "stderr",
     "output_type": "stream",
     "text": [
      "/var/folders/hw/2qqt9k2547j0gf2k4f_hq0lc0000gn/T/ipykernel_49117/3486445007.py:3: DtypeWarning: Columns (0) have mixed types. Specify dtype option on import or set low_memory=False.\n",
      "  logs_df = pd.concat(chunks, ignore_index=True)\n"
     ]
    }
   ],
   "source": [
    "chunk_size = 500000\n",
    "chunks = pd.read_csv('../datasets/processed_logs.csv', chunksize=chunk_size)\n",
    "logs_df = pd.concat(chunks, ignore_index=True)"
   ]
  },
  {
   "cell_type": "code",
   "execution_count": 4,
   "metadata": {},
   "outputs": [
    {
     "name": "stdout",
     "output_type": "stream",
     "text": [
      "<class 'pandas.core.frame.DataFrame'>\n",
      "RangeIndex: 8505002 entries, 0 to 8505001\n",
      "Data columns (total 4 columns):\n",
      " #   Column     Dtype \n",
      "---  ------     ----- \n",
      " 0   timestamp  object\n",
      " 1   level      object\n",
      " 2   message    object\n",
      " 3   source     object\n",
      "dtypes: object(4)\n",
      "memory usage: 259.6+ MB\n",
      "None\n"
     ]
    }
   ],
   "source": [
    "print(logs_df.info())"
   ]
  },
  {
   "cell_type": "markdown",
   "metadata": {},
   "source": [
    "#### Initial Data Inspection\n",
    "- ***Schema:*** The dataset consists of timestamp, level, message and source columns.\n",
    "- ***Null Values:*** Checked for missing or malformed entries."
   ]
  },
  {
   "cell_type": "code",
   "execution_count": 5,
   "metadata": {},
   "outputs": [
    {
     "name": "stdout",
     "output_type": "stream",
     "text": [
      "                  timestamp   level  \\\n",
      "0  Thu Jun 09 06:07:04 2005  notice   \n",
      "1  Thu Jun 09 06:07:04 2005  notice   \n",
      "2  Thu Jun 09 06:07:04 2005  notice   \n",
      "3  Thu Jun 09 06:07:05 2005  notice   \n",
      "4  Thu Jun 09 06:07:05 2005  notice   \n",
      "\n",
      "                                             message  source  \n",
      "0                 LDAP: Built with OpenLDAP LDAP SDK  Apache  \n",
      "1                      LDAP: SSL support unavailable  Apache  \n",
      "2  suEXEC mechanism enabled (wrapper: /usr/sbin/s...  Apache  \n",
      "3  Digest: generating secret for digest authentic...  Apache  \n",
      "4                                       Digest: done  Apache  \n",
      "timestamp    2500000\n",
      "level              0\n",
      "message          101\n",
      "source             0\n",
      "dtype: int64\n"
     ]
    }
   ],
   "source": [
    "print(logs_df.head())\n",
    "\n",
    "print(logs_df.isnull().sum())"
   ]
  },
  {
   "cell_type": "markdown",
   "metadata": {},
   "source": [
    "#### Exploratory Data Analysis (EDA) and Cleaning"
   ]
  },
  {
   "cell_type": "code",
   "execution_count": 6,
   "metadata": {},
   "outputs": [
    {
     "name": "stdout",
     "output_type": "stream",
     "text": [
      "level\n",
      "INFO                                5954567\n",
      "WARN                                 833297\n",
      "ERROR                                625355\n",
      "CRITICAL                             624647\n",
      "FATAL                                321471\n",
      "                                     ...   \n",
      "GoogleSoftwareUpdateAgent[35089]          1\n",
      "netbiosd[35901]                           1\n",
      "netbiosd[31279]                           1\n",
      "helpd[36107]                              1\n",
      "GoogleSoftwareUpdateAgent[33940]          1\n",
      "Name: count, Length: 1040, dtype: int64\n"
     ]
    }
   ],
   "source": [
    "print(logs_df['level'].value_counts())"
   ]
  },
  {
   "cell_type": "markdown",
   "metadata": {},
   "source": [
    "The level column has 1,040 unique values, but standard log levels like INFO, WARN, ERROR, CRITICAL, and FATAL dominate the dataset. The remaining values appear to be process names or non-standard log levels, such as GoogleSoftwareUpdateAgent[35089], netbiosd[35901], etc."
   ]
  },
  {
   "cell_type": "markdown",
   "metadata": {},
   "source": [
    "Separating standard log levels and process names."
   ]
  },
  {
   "cell_type": "code",
   "execution_count": 7,
   "metadata": {},
   "outputs": [
    {
     "name": "stdout",
     "output_type": "stream",
     "text": [
      "cleaned_level\n",
      "INFO        5954567\n",
      "WARN         833465\n",
      "ERROR        663436\n",
      "CRITICAL     624647\n",
      "FATAL        321471\n",
      "OTHER         93661\n",
      "NOTICE        13755\n",
      "Name: count, dtype: int64\n"
     ]
    }
   ],
   "source": [
    "standard_levels = ['INFO', 'WARN', 'ERROR', 'CRITICAL', 'FATAL', 'NOTICE', 'DEBUG']\n",
    "\n",
    "logs_df[\"cleaned_level\"] = logs_df[\"level\"].apply(lambda x: x.upper() if x.upper() in standard_levels else 'OTHER')\n",
    "\n",
    "print(logs_df[\"cleaned_level\"].value_counts())"
   ]
  },
  {
   "cell_type": "markdown",
   "metadata": {},
   "source": [
    "Extracting log source (process names) if 'level' is not standard"
   ]
  },
  {
   "cell_type": "code",
   "execution_count": 8,
   "metadata": {},
   "outputs": [
    {
     "name": "stdout",
     "output_type": "stream",
     "text": [
      "log_source\n",
      "SYSTEM                              8411341\n",
      "kernel[0]                             41181\n",
      "kernel                                13670\n",
      "QQ[10018]                              3202\n",
      "WindowServer[184]                      2294\n",
      "                                     ...   \n",
      "GoogleSoftwareUpdateAgent[36810]          1\n",
      "systemstats[36717]                        1\n",
      "mdworker[36690]                           1\n",
      "mdworker[35812]                           1\n",
      "netbiosd[34560]                           1\n",
      "Name: count, Length: 1033, dtype: int64\n"
     ]
    }
   ],
   "source": [
    "logs_df[\"log_source\"] = logs_df.apply(lambda row: row[\"level\"] if row[\"cleaned_level\"] == \"OTHER\" else \"SYSTEM\", axis=1)\n",
    "\n",
    "print(logs_df[\"log_source\"].value_counts())"
   ]
  },
  {
   "cell_type": "markdown",
   "metadata": {},
   "source": [
    "#### Text Preprocessing (NLP)\n",
    "- ***Lowercasing:*** Coverting all messages to lowercase.\n",
    "- ***Punctuation Removal:*** Removed unnecessary punctuation.\n",
    "- ***Stopword Removal:*** Eliminated common stopwords using NLTK.\n",
    "- ***Lemmatization:*** Reduced words to their base forms for uniformity."
   ]
  },
  {
   "cell_type": "code",
   "execution_count": 9,
   "metadata": {},
   "outputs": [],
   "source": [
    "stop_words = set(stopwords.words('english'))\n",
    "lemmatizer = WordNetLemmatizer()\n",
    "\n",
    "# Function to clean log messages\n",
    "def preprocess_log_message(message):\n",
    "    # Checking if the message is str object if not replacing NaN or non-string values with an empty string\n",
    "    if not isinstance(message, str):\n",
    "        message = ''\n",
    "\n",
    "    message = message.lower()\n",
    "    message = re.sub(r'[^a-zA-Z0-9\\s]', '', message) # Remove punctuation\n",
    "    words = message.split()\n",
    "\n",
    "    if words:\n",
    "        message = ' '.join([lemmatizer.lemmatize(word) for word in message.split() if word not in stop_words])\n",
    "    return message\n",
    "\n",
    "logs_df['cleaned_message'] = logs_df[\"message\"].apply(preprocess_log_message)"
   ]
  },
  {
   "cell_type": "code",
   "execution_count": 10,
   "metadata": {},
   "outputs": [
    {
     "data": {
      "text/plain": [
       "0                         ldap built openldap ldap sdk\n",
       "1                         ldap ssl support unavailable\n",
       "2       suexec mechanism enabled wrapper usrsbinsuexec\n",
       "3       digest generating secret digest authentication\n",
       "4                                          digest done\n",
       "5                         ldap built openldap ldap sdk\n",
       "6                         ldap ssl support unavailable\n",
       "7    envcreatebean2 factory error creating channelj...\n",
       "8               configupdate cant create channeljnijni\n",
       "9          envcreatebean2 factory error creating vm vm\n",
       "Name: cleaned_message, dtype: object"
      ]
     },
     "execution_count": 10,
     "metadata": {},
     "output_type": "execute_result"
    }
   ],
   "source": [
    "logs_df[\"cleaned_message\"].head(10)"
   ]
  },
  {
   "cell_type": "markdown",
   "metadata": {},
   "source": [
    "#### Feature Engineering\n",
    "- ***Message Length:*** Creating a feature based on the number of characters in each message.\n",
    "- ***Word Count:*** Extracting the total number of words per log entry.\n",
    "- ***TF-IDF Vectorization:*** Applying TF-IDF to covert text data into numerical format.\n",
    "<!-- - ***Temporal Features:*** Extracting log timestamps -->\n",
    "- ***Log Level Encoding:*** Converting levels to numerical values."
   ]
  },
  {
   "cell_type": "markdown",
   "metadata": {},
   "source": [
    "Log Message Length"
   ]
  },
  {
   "cell_type": "code",
   "execution_count": 11,
   "metadata": {},
   "outputs": [],
   "source": [
    "logs_df[\"message_length\"] = logs_df[\"message\"].apply(lambda x: len(x) if isinstance(x, str) else 0)"
   ]
  },
  {
   "cell_type": "markdown",
   "metadata": {},
   "source": [
    "Word Count"
   ]
  },
  {
   "cell_type": "code",
   "execution_count": 16,
   "metadata": {},
   "outputs": [],
   "source": [
    "logs_df[\"word_count\"] = logs_df['cleaned_message'].apply(lambda x: len(x.split()) if isinstance(x, str) else 0)"
   ]
  },
  {
   "cell_type": "markdown",
   "metadata": {},
   "source": [
    "Special Character Frequency"
   ]
  },
  {
   "cell_type": "code",
   "execution_count": 17,
   "metadata": {},
   "outputs": [],
   "source": [
    "logs_df['special_char_count'] = logs_df['message'].apply(lambda x: len(re.findall(r'[^a-zA-Z0-9\\s]', str(x))) if isinstance(x, str) else 0)"
   ]
  },
  {
   "cell_type": "markdown",
   "metadata": {},
   "source": [
    "TF-IDF Vectorization"
   ]
  },
  {
   "cell_type": "code",
   "execution_count": 12,
   "metadata": {},
   "outputs": [],
   "source": [
    "vectorizer = TfidfVectorizer(max_features=5000)\n",
    "X_tfidf = vectorizer.fit_transform(logs_df[\"cleaned_message\"])"
   ]
  },
  {
   "cell_type": "markdown",
   "metadata": {},
   "source": [
    "N-Grams to capture word combinations"
   ]
  },
  {
   "cell_type": "code",
   "execution_count": 15,
   "metadata": {},
   "outputs": [],
   "source": [
    "vectorizer = TfidfVectorizer(ngram_range=(1, 2), max_features=5000)\n",
    "X_ngrams = vectorizer.fit_transform(logs_df[\"cleaned_message\"])"
   ]
  },
  {
   "cell_type": "markdown",
   "metadata": {},
   "source": [
    "Log Level Encoding"
   ]
  },
  {
   "cell_type": "code",
   "execution_count": 29,
   "metadata": {},
   "outputs": [
    {
     "data": {
      "text/plain": [
       "13755"
      ]
     },
     "execution_count": 29,
     "metadata": {},
     "output_type": "execute_result"
    }
   ],
   "source": [
    "level_mapping = {'INFO': 4, 'WARN': 3, 'ERROR': 2, 'CRITICAL': 1, 'FATAL': 1, 'OTHER': 4}\n",
    "logs_df[\"level_encoded\"] = logs_df[\"cleaned_level\"].map(level_mapping)\n",
    "logs_df[\"level_encoded\"].isna().sum()"
   ]
  },
  {
   "cell_type": "code",
   "execution_count": 30,
   "metadata": {},
   "outputs": [],
   "source": [
    "logs_df[\"level_encoded\"] = logs_df['level_encoded'].fillna(4)"
   ]
  },
  {
   "cell_type": "code",
   "execution_count": 35,
   "metadata": {},
   "outputs": [],
   "source": [
    "def create_sequences(data, window_size=5):\n",
    "    sequences = []\n",
    "    for i in range(len(data) - window_size):\n",
    "        sequence = data[i:i + window_size]\n",
    "        sequences.append(sequence)\n",
    "    return sequences\n",
    "\n",
    "log_sequences = create_sequences(logs_df['cleaned_message'].tolist())"
   ]
  },
  {
   "cell_type": "code",
   "execution_count": 37,
   "metadata": {},
   "outputs": [
    {
     "name": "stdout",
     "output_type": "stream",
     "text": [
      "count    8.505002e+06\n",
      "mean     6.027474e+01\n",
      "std      3.888710e+01\n",
      "min      0.000000e+00\n",
      "25%      3.500000e+01\n",
      "50%      4.900000e+01\n",
      "75%      7.700000e+01\n",
      "max      1.264000e+03\n",
      "Name: message_length, dtype: float64\n"
     ]
    }
   ],
   "source": [
    "print(logs_df[\"message_length\"].describe())"
   ]
  },
  {
   "cell_type": "code",
   "execution_count": 42,
   "metadata": {},
   "outputs": [
    {
     "data": {
      "image/png": "[encoded data removed]",
      "text/plain": [
       "<Figure size 800x600 with 2 Axes>"
      ]
     },
     "metadata": {},
     "output_type": "display_data"
    }
   ],
   "source": [
    "numeric_cols = logs_df[['message_length', 'word_count', 'special_char_count', 'level_encoded', 'sequence_length']]\n",
    "\n",
    "plt.figure(figsize=(8, 6))\n",
    "sns.heatmap(numeric_cols.corr(), annot=True, cmap='coolwarm')\n",
    "plt.title(\"Correlation Matrix\")\n",
    "plt.show()"
   ]
  },
  {
   "cell_type": "code",
   "execution_count": null,
   "metadata": {},
   "outputs": [],
   "source": []
  }
 ],
 "metadata": {
  "kernelspec": {
   "display_name": "alertops-ai",
   "language": "python",
   "name": "python3"
  },
  "language_info": {
   "codemirror_mode": {
    "name": "ipython",
    "version": 3
   },
   "file_extension": ".py",
   "mimetype": "text/x-python",
   "name": "python",
   "nbconvert_exporter": "python",
   "pygments_lexer": "ipython3",
   "version": "3.9.21"
  }
 },
 "nbformat": 4,
 "nbformat_minor": 2
}
